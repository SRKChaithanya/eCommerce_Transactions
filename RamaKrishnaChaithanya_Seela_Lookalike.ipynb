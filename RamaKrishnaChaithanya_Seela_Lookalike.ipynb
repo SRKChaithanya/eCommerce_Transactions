{
 "cells": [
  {
   "cell_type": "markdown",
   "metadata": {},
   "source": [
    "# **eCommerce Transactions**"
   ]
  },
  {
   "cell_type": "markdown",
   "metadata": {},
   "source": [
    "# Lookalike Model\n"
   ]
  },
  {
   "cell_type": "code",
   "execution_count": 1,
   "metadata": {},
   "outputs": [],
   "source": [
    "\n",
    "\n",
    "# Import necessary libraries\n",
    "import pandas as pd\n",
    "from sklearn.metrics.pairwise import cosine_similarity\n",
    "\n",
    "# Load datasets\n",
    "customers = pd.read_csv('Customers.csv')\n",
    "products = pd.read_csv('Products.csv')\n",
    "transactions = pd.read_csv('Transactions.csv')\n",
    "\n",
    "# Merge datasets for comprehensive analysis\n",
    "merged_data = transactions.merge(customers, on='CustomerID').merge(products, on='ProductID')\n",
    "\n",
    "# Feature engineering\n",
    "customer_features = merged_data.groupby('CustomerID').agg({\n",
    "    'TotalValue': 'sum',\n",
    "    'Quantity': 'sum',\n",
    "    'Price_y': 'mean'\n",
    "}).reset_index()\n",
    "\n",
    "# Calculate similarity matrix\n",
    "similarity_matrix = cosine_similarity(customer_features.drop('CustomerID', axis=1))\n",
    "\n",
    "# Function to find top 3 similar customers\n",
    "def find_similar_customers(customer_id, top_n=3):\n",
    "    customer_idx = customer_features[customer_features['CustomerID'] == customer_id].index[0]\n",
    "    similarity_scores = list(enumerate(similarity_matrix[customer_idx]))\n",
    "    similarity_scores = sorted(similarity_scores, key=lambda x: x[1], reverse=True)\n",
    "    similar_customers = [(customer_features.iloc[i]['CustomerID'], score) for i, score in similarity_scores[1:top_n+1]]\n",
    "    return similar_customers\n",
    "\n",
    "# Generate Lookalike.csv for first 20 customers\n",
    "lookalike_data = {}\n",
    "for customer_id in customers['CustomerID'][:20]:\n",
    "    lookalike_data[customer_id] = find_similar_customers(customer_id)\n",
    "\n",
    "# Save to CSV\n",
    "import csv\n",
    "with open('Lookalike.csv', 'w', newline='') as csvfile:\n",
    "    writer = csv.writer(csvfile)\n",
    "    writer.writerow(['CustomerID', 'SimilarCustomers'])\n",
    "    for cust_id, similar in lookalike_data.items():\n",
    "        writer.writerow([cust_id, similar])"
   ]
  }
 ],
 "metadata": {
  "kernelspec": {
   "display_name": "Python 3",
   "language": "python",
   "name": "python3"
  },
  "language_info": {
   "codemirror_mode": {
    "name": "ipython",
    "version": 3
   },
   "file_extension": ".py",
   "mimetype": "text/x-python",
   "name": "python",
   "nbconvert_exporter": "python",
   "pygments_lexer": "ipython3",
   "version": "3.13.1"
  }
 },
 "nbformat": 4,
 "nbformat_minor": 4
}
